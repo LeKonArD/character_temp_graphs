{
 "cells": [
  {
   "cell_type": "code",
   "execution_count": null,
   "metadata": {},
   "outputs": [],
   "source": [
    "import pandas as pd\n",
    "import numpy as np\n",
    "import os\n",
    "import re\n",
    "import seaborn as sns\n",
    "import matplotlib.pyplot as plt"
   ]
  },
  {
   "cell_type": "code",
   "execution_count": null,
   "metadata": {},
   "outputs": [],
   "source": [
    "sns.set(font_scale=1.5)\n",
    "sns.set_style({'axes.grid' : False})"
   ]
  },
  {
   "cell_type": "code",
   "execution_count": null,
   "metadata": {},
   "outputs": [],
   "source": [
    "files = os.listdir(\"love_permut\")\n",
    "\n",
    "result = pd.DataFrame()\n",
    "result[\"fname\"] = files\n",
    "result[\"type\"] = [x[:2] for x in files]\n",
    "result[\"ID\"] = result[\"fname\"].apply(lambda x: re.sub(\"shuffle\\_|\\.+tsv\",\"\",x))\n",
    "\n",
    "a1 = list(result[result[\"type\"] == \"A0\"][\"fname\"])\n",
    "b1 = list(result[result[\"type\"] == \"B1\"][\"fname\"])\n",
    "b2 = list(result[result[\"type\"] == \"B2\"][\"fname\"])\n",
    "b3 = list(result[result[\"type\"] == \"B3\"][\"fname\"])"
   ]
  },
  {
   "cell_type": "code",
   "execution_count": null,
   "metadata": {},
   "outputs": [],
   "source": [
    "dist1 = pd.read_csv(\"permut_1.tsv\", sep=\"\\t\", index_col=0)\n",
    "dist2 = pd.read_csv(\"permut_2.tsv\", sep=\"\\t\", index_col=0)\n",
    "dist3 = pd.read_csv(\"permut_3.tsv\", sep=\"\\t\", index_col=0)\n",
    "dist4 = pd.read_csv(\"permut_4.tsv\", sep=\"\\t\", index_col=0)"
   ]
  },
  {
   "cell_type": "code",
   "execution_count": null,
   "metadata": {},
   "outputs": [],
   "source": [
    "def get_distances(dist_matrix, group1, group2, size):\n",
    "    \n",
    "    d = []\n",
    "    s = 0\n",
    "    samplesize = size\n",
    "    while s < samplesize:\n",
    "\n",
    "        g1 = np.random.choice(group1,size=10)\n",
    "        g2 = np.random.choice(group2,size=10)\n",
    "                \n",
    "        d.append(dist_matrix.loc[g1,g2].mean().mean())\n",
    "        s+=1\n",
    "        \n",
    "    return d"
   ]
  },
  {
   "cell_type": "code",
   "execution_count": null,
   "metadata": {
    "scrolled": true
   },
   "outputs": [],
   "source": [
    "full_frame = pd.DataFrame()\n",
    "\n",
    "size = 500\n",
    "case = [\"base\", \"+topics\", \"+relevance\",\"+topics\\n+relevance\"]\n",
    "i = 0\n",
    "for mat in [dist1, dist2, dist3, dist4]:\n",
    "\n",
    "    frame = pd.DataFrame()\n",
    "    a = get_distances(mat, a1, a1, size)\n",
    "    b = get_distances(mat, a1, b1, size)\n",
    "    c = get_distances(mat, a1, b2, size)\n",
    "    d = get_distances(mat, a1, b3, size)\n",
    "    \n",
    "    d = a + c + b + d\n",
    "    frame[\"Distance\"] = d\n",
    "    frame[\"Model\"] = case[i]\n",
    "    frame[\"Group\"] = size*[\"A1\"]+size*[\"B1\"]+size*[\"B2\"]+size*[\"B3\"]\n",
    "    \n",
    "    full_frame = pd.concat([frame, full_frame])\n",
    "    \n",
    "    i+=1\n",
    "    "
   ]
  },
  {
   "cell_type": "code",
   "execution_count": null,
   "metadata": {},
   "outputs": [],
   "source": [
    "fig, ax = plt.subplots(1,4,figsize=(16,9))\n",
    "\n",
    "pdata = full_frame[full_frame[\"Model\"] == \"base\"]\n",
    "sns.boxplot(data=pdata, x=\"Group\", y=\"Distance\", ax=ax[0], fliersize=0, order=[\"A1\",\"B2\",\"B1\",\"B3\"])\n",
    "ax[0].set_xlabel(\"base\")\n",
    "ax[0].set_yticklabels([\"\",\"\",\"\",\"\"])\n",
    "\n",
    "pdata = full_frame[full_frame[\"Model\"] == \"+topics\"]\n",
    "sns.boxplot(data=pdata, x=\"Group\", y=\"Distance\", ax=ax[1], fliersize=0, order=[\"A1\",\"B2\",\"B1\",\"B3\"])\n",
    "ax[1].set_ylabel(\"\")\n",
    "ax[1].set_yticklabels([\"\",\"\",\"\",\"\"])\n",
    "ax[1].set_xlabel(\"+relevance\")\n",
    "\n",
    "pdata = full_frame[full_frame[\"Model\"] == \"+relevance\"]\n",
    "sns.boxplot(data=pdata, x=\"Group\", y=\"Distance\", ax=ax[2], fliersize=0, order=[\"A1\",\"B2\",\"B1\",\"B3\"])\n",
    "ax[2].set_ylabel(\"\")\n",
    "ax[2].set_yticklabels([\"\",\"\",\"\",\"\"])\n",
    "ax[2].set_xlabel(\"+topics\")\n",
    "\n",
    "pdata = full_frame[full_frame[\"Model\"] == \"+topics\\n+relevance\"]\n",
    "sns.boxplot(data=pdata, x=\"Group\", y=\"Distance\",ax=ax[3], fliersize=0, order=[\"A1\",\"B2\",\"B1\",\"B3\"])\n",
    "ax[3].set_ylabel(\"\")\n",
    "ax[3].set_yticklabels([\"\",\"\",\"\",\"\"])\n",
    "ax[3].set_xlabel(\"+topics\\n+relevance\")\n",
    "\n",
    "plt.tight_layout()\n",
    "#plt.show()\n",
    "plt.savefig(\"plots/eval3.png\", dpi=300)"
   ]
  },
  {
   "cell_type": "markdown",
   "metadata": {},
   "source": [
    "Task 2"
   ]
  },
  {
   "cell_type": "code",
   "execution_count": null,
   "metadata": {},
   "outputs": [],
   "source": [
    "def type_attr(x):\n",
    "    \n",
    "    if x.startswith(\"s\"):\n",
    "        return \"fake\"\n",
    "    else:\n",
    "        return \"real\"\n",
    "    \n",
    "files = os.listdir(\"slices\")\n",
    "meta = pd.read_csv(\"/mnt2/data/collections/corpora/Heftromane/meta.tsv\", sep=\"\\t\", index_col=0)\n",
    "\n",
    "result = pd.DataFrame()\n",
    "result[\"fname\"] = files\n",
    "result[\"type\"] = [type_attr(x) for x in files]\n",
    "result[\"genre\"] = list(meta.loc[[re.sub(\"shuffle\\_|\\.+tsv\",\"\",x) for x in files], \"genre\"])\n",
    "result[\"ID\"] = result[\"fname\"].apply(lambda x: re.sub(\"shuffle\\_|\\.+tsv\",\"\",x))\n",
    "\n",
    "lr = list(result[(result.type == \"real\") & (result.genre == \"liebe\")][\"fname\"])\n",
    "lf = list(result[(result.type == \"fake\") & (result.genre == \"liebe\")][\"fname\"])\n",
    "hr = list(result[(result.type == \"real\") & (result.genre == \"horror\")][\"fname\"])\n",
    "hf = list(result[(result.type == \"fake\") & (result.genre == \"horror\")][\"fname\"])\n",
    "\n",
    "groups = [lr,lf,hr,hf]\n",
    "group_labels = [\"love_real\",\"love_fake\",\"horror_real\",\"horror_fake\"]"
   ]
  },
  {
   "cell_type": "code",
   "execution_count": null,
   "metadata": {},
   "outputs": [],
   "source": [
    "dist1 = pd.read_csv(\"shuffle_1.tsv\", sep=\"\\t\", index_col=0)\n",
    "dist2 = pd.read_csv(\"shuffle_2.tsv\", sep=\"\\t\", index_col=0)\n",
    "dist3 = pd.read_csv(\"shuffle_3.tsv\", sep=\"\\t\", index_col=0)\n",
    "dist4 = pd.read_csv(\"shuffle_4.tsv\", sep=\"\\t\", index_col=0)"
   ]
  },
  {
   "cell_type": "code",
   "execution_count": null,
   "metadata": {},
   "outputs": [],
   "source": [
    "a = []\n",
    "for fname in os.listdir(\"shatter_matrix\"):\n",
    "    a.append(pd.read_csv(\"shatter_matrix/\"+fname, sep=\"\\t\", index_col=0))\n",
    "    "
   ]
  },
  {
   "cell_type": "code",
   "execution_count": null,
   "metadata": {},
   "outputs": [],
   "source": [
    "dist3 = pd.concat(a)"
   ]
  },
  {
   "cell_type": "code",
   "execution_count": null,
   "metadata": {
    "scrolled": true
   },
   "outputs": [],
   "source": [
    "full_frame = pd.DataFrame()\n",
    "\n",
    "size = 500\n",
    "case = [\"base\", \"+topics\", \"+relevance\", \"+topics\\n+relevance\"]\n",
    "i = 0\n",
    "for mat in [dist2, dist1, dist4, dist3]:\n",
    "\n",
    "    frame = pd.DataFrame()\n",
    "    a = get_distances(mat, lr, lr, size)\n",
    "    b = get_distances(mat, lr, lf, size)\n",
    "    c = get_distances(mat, hr, hr, size)\n",
    "    d = get_distances(mat, hr, hf, size)\n",
    "    \n",
    "    d = a + b + c + d\n",
    "    frame[\"Distance\"] = d\n",
    "    frame[\"Model\"] = case[i]\n",
    "    frame[\"Group\"] = size*[\"Romance\"]+size*[\"Romance\\nshuffle\"]+size*[\"Horror\"]+size*[\"Horror\\nshuffle\"]\n",
    "    \n",
    "    full_frame = pd.concat([frame, full_frame])\n",
    "    \n",
    "    i+=1"
   ]
  },
  {
   "cell_type": "code",
   "execution_count": null,
   "metadata": {
    "scrolled": false
   },
   "outputs": [],
   "source": [
    "fig, ax = plt.subplots(1,4,figsize=(16,9))\n",
    "\n",
    "xlabels = [\"Romance\",\"Romance\\nshuffle\",\"Horror\",\"Horror\\nshuffle\"]\n",
    "\n",
    "pdata = full_frame[full_frame[\"Model\"] == \"base\"]\n",
    "sns.boxplot(data=pdata, x=\"Group\", y=\"Distance\", ax=ax[0], fliersize=0)\n",
    "ax[0].set_xlabel(\"base\")\n",
    "ax[0].set_yticklabels([\"\",\"\",\"\",\"\"])\n",
    "ax[0].set_xticklabels(xlabels, rotation=45)\n",
    "\n",
    "pdata = full_frame[full_frame[\"Model\"] == \"+topics\"]\n",
    "sns.boxplot(data=pdata, x=\"Group\", y=\"Distance\", ax=ax[1], fliersize=0)\n",
    "ax[1].set_ylabel(\"\")\n",
    "ax[1].set_yticklabels([\"\",\"\",\"\",\"\"])\n",
    "ax[1].set_xlabel(\"+relevance\")\n",
    "ax[1].set_xticklabels(xlabels, rotation=45)\n",
    "\n",
    "pdata = full_frame[full_frame[\"Model\"] == \"+relevance\"]\n",
    "sns.boxplot(data=pdata, x=\"Group\", y=\"Distance\", ax=ax[2], fliersize=0)\n",
    "ax[2].set_ylabel(\"\")\n",
    "ax[2].set_yticklabels([\"\",\"\",\"\",\"\"])\n",
    "ax[2].set_xlabel(\"+topics\")\n",
    "ax[2].set_xticklabels(xlabels, rotation=45)\n",
    "\n",
    "pdata = full_frame[full_frame[\"Model\"] == \"+topics\\n+relevance\"]\n",
    "sns.boxplot(data=pdata, x=\"Group\", y=\"Distance\", ax=ax[3], fliersize=0)\n",
    "ax[3].set_ylabel(\"\")\n",
    "ax[3].set_yticklabels([\"\",\"\",\"\",\"\"])\n",
    "ax[3].set_xlabel(\"+topics\\n+relevance\")\n",
    "ax[3].set_xticklabels(xlabels, rotation=45)\n",
    "\n",
    "plt.tight_layout()\n",
    "#plt.show()\n",
    "plt.savefig(\"plots/eval2.png\", dpi=300)"
   ]
  },
  {
   "cell_type": "code",
   "execution_count": null,
   "metadata": {},
   "outputs": [],
   "source": [
    "fig, ax = plt.subplots(1,4,figsize=(16,9))\n",
    "\n",
    "xlabels = [\"Romance\",\"Romance\\nshuffle\",\"Horror\",\"Horror\\nshuffle\"]\n",
    "\n",
    "pdata = full_frame[full_frame[\"Model\"] == \"base\"]\n",
    "sns.boxplot(data=pdata, x=\"Group\", y=\"Distance\", ax=ax[0], fliersize=0)\n",
    "ax[0].set_xlabel(\"base\")\n",
    "ax[0].set_yticklabels([\"\",\"\",\"\",\"\"])\n",
    "ax[0].set_xticklabels(xlabels, rotation=45)\n",
    "\n",
    "pdata = full_frame[full_frame[\"Model\"] == \"+topics\\n+relevance\"]\n",
    "sns.boxplot(data=pdata, x=\"Group\", y=\"Distance\", ax=ax[1], fliersize=0)\n",
    "ax[1].set_ylabel(\"\")\n",
    "ax[1].set_yticklabels([\"\",\"\",\"\",\"\"])\n",
    "ax[1].set_xlabel(\"Topic Filter\")\n",
    "ax[1].set_xticklabels(xlabels, rotation=45)\n",
    "\n",
    "plt.tight_layout()\n",
    "plt.show()"
   ]
  },
  {
   "cell_type": "code",
   "execution_count": null,
   "metadata": {
    "scrolled": true
   },
   "outputs": [],
   "source": [
    "dist1 = pd.read_csv(\"dtgw_degrees_output.tsv\",sep=\"\\t\", index_col=0)\n",
    "dist2 = pd.read_csv(\"tfidf_matrix.tsv\",sep=\"\\t\", index_col=0)\n",
    "dist2.columns = [re.sub(\"\\.\",\"\",x)+\".tsv\" for x in dist2.columns]\n",
    "dist2.index = dist2.columns\n",
    "dist3 = pd.read_csv(\"shuffle_4.tsv\",sep=\"\\t\", index_col=0)\n",
    "dist4 = pd.read_csv(\"global.tsv\",sep=\"\\t\", index_col=0)\n",
    "dist4.columns = [re.sub(\"\\.\",\"\",x)+\".tsv\" for x in dist4.columns]\n",
    "dist4.index = dist4.columns"
   ]
  },
  {
   "cell_type": "code",
   "execution_count": null,
   "metadata": {},
   "outputs": [],
   "source": [
    "dist4"
   ]
  },
  {
   "cell_type": "code",
   "execution_count": null,
   "metadata": {},
   "outputs": [],
   "source": [
    "files = os.listdir(\"slices\")\n",
    "files = [x for x in files if not x.startswith(\"s\")]\n",
    "files = [x for x in files if x in dist1.columns]\n",
    "result = pd.DataFrame()\n",
    "result[\"fname\"] = files\n",
    "result[\"genre\"] = list(meta.loc[[re.sub(\"shuffle\\_|\\.+tsv\",\"\",x) for x in files], \"genre\"])\n",
    "result[\"ID\"] = result[\"fname\"].apply(lambda x: re.sub(\"shuffle\\_|\\.+tsv\",\"\",x))\n",
    "\n",
    "h = list(result[result.genre == \"horror\"][\"fname\"])\n",
    "m = list(result[result.genre == \"liebe\"][\"fname\"])\n"
   ]
  },
  {
   "cell_type": "code",
   "execution_count": null,
   "metadata": {},
   "outputs": [],
   "source": [
    "full_frame = pd.DataFrame()\n",
    "\n",
    "size = 500\n",
    "case = [\"tfidf\", \"global\", \"dtw\", \"dtgw\"]\n",
    "i = 0\n",
    "for mat in [dist2, dist4, dist3, dist1]:\n",
    "    print(case[i])\n",
    "    frame = pd.DataFrame()\n",
    "    a = get_distances(mat, h, h, size)\n",
    "    b = get_distances(mat, m, m, size)\n",
    "    c = get_distances(mat, m, h, size)\n",
    "\n",
    "    d = a + b + c\n",
    "    frame[\"Distance\"] = d\n",
    "    frame[\"Model\"] = case[i]\n",
    "    frame[\"Group\"] = size*[\"Romance\"]+size*[\"Horror\"]+size*[\"Both\"]\n",
    "    full_frame = pd.concat([frame, full_frame])\n",
    "    \n",
    "    i+=1"
   ]
  },
  {
   "cell_type": "code",
   "execution_count": null,
   "metadata": {
    "scrolled": false
   },
   "outputs": [],
   "source": [
    "fig, ax = plt.subplots(1,4,figsize=(16,9))\n",
    "\n",
    "xlabels = [\"Romance\",\"Horror\",\"Both\"]\n",
    "\n",
    "pdata = full_frame[full_frame[\"Model\"] == \"tfidf\"]\n",
    "sns.boxplot(data=pdata, x=\"Group\", y=\"Distance\", ax=ax[0], fliersize=0)\n",
    "\n",
    "ax[0].set_xlabel(\"tf-idf\")\n",
    "ax[0].set_yticklabels([\"\",\"\",\"\",\"\"])\n",
    "ax[0].set_xticklabels(xlabels, rotation=45)\n",
    "\n",
    "pdata = full_frame[full_frame[\"Model\"] == \"global\"]\n",
    "sns.boxplot(data=pdata, x=\"Group\", y=\"Distance\", ax=ax[1], fliersize=0)\n",
    "\n",
    "ax[1].set_xlabel(\"Global\\nCharacteristics\")\n",
    "ax[1].set_yticklabels([\"\",\"\",\"\",\"\"])\n",
    "ax[1].set_xticklabels(xlabels, rotation=45)\n",
    "ax[1].set_ylabel(\"\")\n",
    "\n",
    "pdata = full_frame[full_frame[\"Model\"] == \"dtw\"]\n",
    "sns.boxplot(data=pdata, x=\"Group\", y=\"Distance\", ax=ax[2], fliersize=0)\n",
    "\n",
    "ax[2].set_xlabel(\"Time Series\")\n",
    "ax[2].set_yticklabels([\"\",\"\",\"\",\"\"])\n",
    "ax[2].set_xticklabels(xlabels, rotation=45)\n",
    "ax[2].set_ylabel(\"\")\n",
    "\n",
    "pdata = full_frame[full_frame[\"Model\"] == \"dtgw\"]\n",
    "sns.boxplot(data=pdata, x=\"Group\", y=\"Distance\", ax=ax[3], fliersize=0)\n",
    "\n",
    "ax[3].set_xlabel(\"Temporal Graph\")\n",
    "ax[3].set_yticklabels([\"\",\"\",\"\",\"\"])\n",
    "ax[3].set_xticklabels(xlabels, rotation=45)\n",
    "ax[3].set_ylabel(\"\")\n",
    "\n",
    "#plt.show()\n",
    "plt.savefig(\"plots/eval1.png\", dpi=300, bbox_inches=\"tight\")"
   ]
  }
 ],
 "metadata": {
  "kernelspec": {
   "display_name": "gpu",
   "language": "python",
   "name": "gpu"
  },
  "language_info": {
   "codemirror_mode": {
    "name": "ipython",
    "version": 3
   },
   "file_extension": ".py",
   "mimetype": "text/x-python",
   "name": "python",
   "nbconvert_exporter": "python",
   "pygments_lexer": "ipython3",
   "version": "3.8.5"
  }
 },
 "nbformat": 4,
 "nbformat_minor": 2
}
