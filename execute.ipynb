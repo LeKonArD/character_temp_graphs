{
 "cells": [
  {
   "cell_type": "code",
   "execution_count": 1,
   "metadata": {},
   "outputs": [],
   "source": [
    "import os\n",
    "import re\n",
    "import json\n",
    "import numpy as np\n",
    "import pandas as pd\n",
    "from collections import Counter\n",
    "from tqdm.notebook import tqdm\n",
    "from tpn.utils import most_common, oppose, load_data_from_tsv, load_data_from_perseg_tsv\n",
    "from tpn.scene import get_scenes, postprocess_scenes\n",
    "from tpn.coref import get_namedict, map_names, correct_coref, update_genderdict, prop_gen, correct_gender\n",
    "from tpn.actions import get_interactions"
   ]
  },
  {
   "cell_type": "code",
   "execution_count": null,
   "metadata": {},
   "outputs": [],
   "source": [
    "file_id = \"\"\n",
    "input_folder = \"\"\n",
    "output_folder = \"\"\n",
    "conll_output_folder = \"\"\n",
    "\n",
    "# set infos for ich-narratives\n",
    "ich_pespective = False\n",
    "erzähler = \"john\"\n",
    "first_person = [\"ich\",\"mir\",\"mein\",\"meine\",\"meiner\",\"meinem\",\"meinen\"]"
   ]
  },
  {
   "cell_type": "code",
   "execution_count": 2,
   "metadata": {},
   "outputs": [],
   "source": [
    "files = os.listdir(input_folder)\n",
    "files = [x for x in files if x.startswith(file_id)]\n",
    "files.sort()"
   ]
  },
  {
   "cell_type": "code",
   "execution_count": 17,
   "metadata": {
    "scrolled": true
   },
   "outputs": [],
   "source": [
    "full_namelist = []\n",
    "full_frame = pd.DataFrame()\n",
    "gender_dict = {}\n",
    "output = []\n",
    "\n",
    "\n",
    "for fname in files:\n",
    "    \n",
    "    # load tsv file\n",
    "    data = load_data_from_perseg_tsv(input_folder+\"/\"+fname)\n",
    "    \n",
    "    # add scene number to dataframe\n",
    "    sc = int(re.sub(\".*\\_|\\.txt.*\",\"\",fname))\n",
    "    data[\"scene\"] = sc\n",
    "    \n",
    "    # generate corefID/name dictionary\n",
    "    scene_namedict = get_namedict(data)\n",
    "    \n",
    "    # map names to new column \"named_coref\"\n",
    "    data = map_names(data, scene_namedict)\n",
    "    \n",
    "    \n",
    "    # apply postprocessing for ich-narratives\n",
    "    if ich_pespective:\n",
    "        mistakes = data[(data.anys == \"no\") & (data.token.isin(first_person))].index\n",
    "        for mis in mistakes:\n",
    "            data.loc[mis,\"named_coref\"] = erzähler\n",
    "    \n",
    "    # get all characters present and update full namelist\n",
    "    personal = list(set(scene_namedict.values()))\n",
    "    full_namelist = list(set(full_namelist+personal))\n",
    "    \n",
    "    # corefernce postprocessing \n",
    "    data = correct_coref(data, full_namelist)\n",
    "    \n",
    "    personal = list(set(data[~data.named_coref.isna()].named_coref))\n",
    "    gender_dict = update_genderdict(data, personal, gender_dict)\n",
    "    \n",
    "    data = correct_gender(data, gender_dict)\n",
    "    \n",
    "    # query for actions\n",
    "    store = get_interactions(data, personal)\n",
    "    \n",
    "    # create input format for graph creation\n",
    "    scene_info = {}\n",
    "    scene_info[\"personal\"] = personal\n",
    "    scene_info[\"time\"] = sc\n",
    "    scene_info[\"verbs\"] = store[0]\n",
    "    scene_info[\"objects\"] = store[1]\n",
    "    scene_info[\"constructs\"] = store[2]\n",
    "    scene_info[\"speech_prop\"] = len(data[data.anys == \"yes\"])/len(data)\n",
    "    scene_info[\"genders\"] = gender_dict\n",
    "    output.append(scene_info)\n",
    "    \n",
    "    # add scene to novel dataframe\n",
    "    full_frame = pd.concat([full_frame, data], axis=0)\n",
    "    \n",
    "    # store input for graph creation\n",
    "    with open(output_folder+\"/\"+fname[:-11]+\".json\", 'w') as fout:\n",
    "            json.dump(output, fout)\n",
    "            \n",
    "# store all scenes in one conll file\n",
    "full_frame.to_csv(conll_output_folder+\"/\"+fname[:-11]+\".tsv\", sep=\"\\t\")       "
   ]
  }
 ],
 "metadata": {
  "kernelspec": {
   "display_name": "gpu",
   "language": "python",
   "name": "gpu"
  },
  "language_info": {
   "codemirror_mode": {
    "name": "ipython",
    "version": 3
   },
   "file_extension": ".py",
   "mimetype": "text/x-python",
   "name": "python",
   "nbconvert_exporter": "python",
   "pygments_lexer": "ipython3",
   "version": "3.8.5"
  }
 },
 "nbformat": 4,
 "nbformat_minor": 2
}
